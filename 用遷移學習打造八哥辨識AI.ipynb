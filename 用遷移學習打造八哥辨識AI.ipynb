{
  "nbformat": 4,
  "nbformat_minor": 0,
  "metadata": {
    "colab": {
      "name": "用遷移學習打造八哥辨識AI.ipynb",
      "provenance": [],
      "collapsed_sections": [],
      "include_colab_link": true
    },
    "kernelspec": {
      "name": "python3",
      "display_name": "Python 3"
    },
    "language_info": {
      "name": "python"
    },
    "accelerator": "GPU"
  },
  "cells": [
    {
      "cell_type": "markdown",
      "metadata": {
        "id": "view-in-github",
        "colab_type": "text"
      },
      "source": [
        "<a href=\"https://colab.research.google.com/github/yuanke-tsai/age/blob/main/%E7%94%A8%E9%81%B7%E7%A7%BB%E5%AD%B8%E7%BF%92%E6%89%93%E9%80%A0%E5%85%AB%E5%93%A5%E8%BE%A8%E8%AD%98AI.ipynb\" target=\"_parent\"><img src=\"https://colab.research.google.com/assets/colab-badge.svg\" alt=\"Open In Colab\"/></a>"
      ]
    },
    {
      "cell_type": "markdown",
      "metadata": {
        "id": "hI797zY1PLSZ"
      },
      "source": [
        "台灣最常見的八哥有 (土) 八哥、白尾八哥及家八哥三種。我們來挑戰每種八哥只用三張照片, 看能不能打造一個神經網路學會辨識這三種八哥。"
      ]
    },
    {
      "cell_type": "code",
      "metadata": {
        "id": "vgqLDK0J5Lh4"
      },
      "source": [
        "%matplotlib inline\n",
        "\n",
        "import numpy as np\n",
        "import pandas as pd\n",
        "import matplotlib.pyplot as plt"
      ],
      "execution_count": null,
      "outputs": []
    },
    {
      "cell_type": "markdown",
      "metadata": {
        "id": "18zhlEJj5tLV"
      },
      "source": [
        "### 1. 讀入八哥資料圖檔\n",
        "\n",
        "這裡把我在 GitHub 上存成 `pickle` 的八哥圖檔讀進來, 這已經是變成 `numpy array` 格式的。"
      ]
    },
    {
      "cell_type": "code",
      "metadata": {
        "id": "F-YK6E8O519-"
      },
      "source": [
        "from urllib.request import urlretrieve #自動資料載入，上回做過\n",
        "import pickle #python內方便的套件庫，存跟讀的格式一樣，存np.array，讀就會是np.array"
      ],
      "execution_count": null,
      "outputs": []
    },
    {
      "cell_type": "code",
      "metadata": {
        "colab": {
          "base_uri": "https://localhost:8080/"
        },
        "id": "hjZ5xdRV57Ia",
        "outputId": "1d26e81e-3145-43bf-b8f0-4b5c55abec69"
      },
      "source": [
        "urlretrieve(\"https://github.com/yenlung/Deep-Learning-Basics/raw/master/data/myna/myna_input.pickle\", \"myna_input.pickle\")\n",
        "urlretrieve(\"https://github.com/yenlung/Deep-Learning-Basics/raw/master/data/myna/myna_output.pickle\", \"myna_output.pickle\")"
      ],
      "execution_count": null,
      "outputs": [
        {
          "output_type": "execute_result",
          "data": {
            "text/plain": [
              "('myna_output.pickle', <http.client.HTTPMessage at 0x7f760785a450>)"
            ]
          },
          "metadata": {
            "tags": []
          },
          "execution_count": 3
        }
      ]
    },
    {
      "cell_type": "code",
      "metadata": {
        "id": "SmgItJYm6plV"
      },
      "source": [
        "f = open('myna_input.pickle', 'rb')\n",
        "data = pickle.load(f)\n",
        "f.close()"
      ],
      "execution_count": null,
      "outputs": []
    },
    {
      "cell_type": "code",
      "metadata": {
        "id": "4AdZvSaR64-c"
      },
      "source": [
        "f = open('myna_output.pickle', 'rb')\n",
        "target = pickle.load(f)\n",
        "f.close()"
      ],
      "execution_count": null,
      "outputs": []
    },
    {
      "cell_type": "markdown",
      "metadata": {
        "id": "HQtbtlY9QYQZ"
      },
      "source": [
        "看看 `data` 的 `shape`, 我們確定只有 9 張照片, 大小是 256x256。\n"
      ]
    },
    {
      "cell_type": "code",
      "metadata": {
        "colab": {
          "base_uri": "https://localhost:8080/"
        },
        "id": "Tj9tC2Wm68_f",
        "outputId": "f7317873-0432-4f4d-8087-402a9e7cd9f1"
      },
      "source": [
        "data.shape"
      ],
      "execution_count": null,
      "outputs": [
        {
          "output_type": "execute_result",
          "data": {
            "text/plain": [
              "(9, 256, 256, 3)"
            ]
          },
          "metadata": {
            "tags": []
          },
          "execution_count": 6
        }
      ]
    },
    {
      "cell_type": "markdown",
      "metadata": {
        "id": "CeQXa4SPQtSw"
      },
      "source": [
        "答案就是三種八哥, 依次為白尾八哥、家八哥、(土)八哥。"
      ]
    },
    {
      "cell_type": "code",
      "metadata": {
        "colab": {
          "base_uri": "https://localhost:8080/"
        },
        "id": "g58YuAxQ6-OW",
        "outputId": "11d66068-e1ab-43f9-c7c2-c77a05cfe473"
      },
      "source": [
        "target"
      ],
      "execution_count": null,
      "outputs": [
        {
          "output_type": "execute_result",
          "data": {
            "text/plain": [
              "array([1, 1, 1, 2, 2, 2, 3, 3, 3])"
            ]
          },
          "metadata": {
            "tags": []
          },
          "execution_count": 7
        }
      ]
    },
    {
      "cell_type": "markdown",
      "metadata": {
        "id": "gnUPF4rrCeL3"
      },
      "source": [
        "### 2. 整理輸入和輸出資料\n",
        "\n",
        "輸出的部份我們要做 one-hot encoding, 輸入要注意每個名門 CNN model 都有他們自己慣用的預處理。 "
      ]
    },
    {
      "cell_type": "code",
      "metadata": {
        "id": "iXSsTGrdDN6i"
      },
      "source": [
        "from tensorflow.keras.utils import to_categorical\n",
        "from tensorflow.keras.applications.resnet50 import preprocess_input"
      ],
      "execution_count": null,
      "outputs": []
    },
    {
      "cell_type": "markdown",
      "metadata": {
        "id": "4xdO5KStRnWr"
      },
      "source": [
        "我們選張八哥圖來看看。"
      ]
    },
    {
      "cell_type": "code",
      "metadata": {
        "colab": {
          "base_uri": "https://localhost:8080/",
          "height": 248
        },
        "id": "9R_pGP9xCexV",
        "outputId": "06baa36d-fc4d-4818-e132-fed659a7cfd0"
      },
      "source": [
        "n=1\n",
        "plt.axis('off')\n",
        "plt.imshow(data[n]);"
      ],
      "execution_count": null,
      "outputs": [
        {
          "output_type": "display_data",
          "data": {
            "image/png": "[encoded data removed]",
            "text/plain": [
              "<Figure size 432x288 with 1 Axes>"
            ]
          },
          "metadata": {
            "tags": [],
            "needs_background": "light"
          }
        }
      ]
    },
    {
      "cell_type": "markdown",
      "metadata": {
        "id": "lYeUZURVRvFE"
      },
      "source": [
        "看來沒有什麼意外, 就是個鳥圖。我們用 ResNet 的預處理再看一次。"
      ]
    },
    {
      "cell_type": "code",
      "metadata": {
        "id": "jtrScxfKCpef"
      },
      "source": [
        "x_train = preprocess_input(data)"
      ],
      "execution_count": null,
      "outputs": []
    },
    {
      "cell_type": "code",
      "metadata": {
        "colab": {
          "base_uri": "https://localhost:8080/",
          "height": 265
        },
        "id": "kSCa5vUXCzjz",
        "outputId": "1e67729e-f3cb-4ed1-a163-a305f9997cbc"
      },
      "source": [
        "plt.axis('off')\n",
        "plt.imshow(x_train[n]);"
      ],
      "execution_count": null,
      "outputs": [
        {
          "output_type": "stream",
          "text": [
            "Clipping input data to the valid range for imshow with RGB data ([0..1] for floats or [0..255] for integers).\n"
          ],
          "name": "stderr"
        },
        {
          "output_type": "display_data",
          "data": {
            "image/png": "[encoded data removed]",
            "text/plain": [
              "<Figure size 432x288 with 1 Axes>"
            ]
          },
          "metadata": {
            "tags": [],
            "needs_background": "light"
          }
        }
      ]
    },
    {
      "cell_type": "markdown",
      "metadata": {
        "id": "fywaNEiiR_cU"
      },
      "source": [
        "這看來好像八哥都要變猛禽了啊! 反正 ResNet 覺得這樣對它比較容易。\n",
        "\n",
        "一個答案就是 1, 2, 3 其中一個數字。"
      ]
    },
    {
      "cell_type": "code",
      "metadata": {
        "colab": {
          "base_uri": "https://localhost:8080/"
        },
        "id": "WaBi3UiTDcOT",
        "outputId": "e34bf380-2ea8-483a-fef2-6d7216043597"
      },
      "source": [
        "target[n]"
      ],
      "execution_count": null,
      "outputs": [
        {
          "output_type": "execute_result",
          "data": {
            "text/plain": [
              "1"
            ]
          },
          "metadata": {
            "tags": []
          },
          "execution_count": 12
        }
      ]
    },
    {
      "cell_type": "markdown",
      "metadata": {
        "id": "vlJL1wTuSW9w"
      },
      "source": [
        "要注意要做 one-hot encoding, 我們需要改為 0, 1, 2。"
      ]
    },
    {
      "cell_type": "code",
      "metadata": {
        "id": "QrsNY2cNDfdN"
      },
      "source": [
        "y_train = to_categorical(target-1, 3)"
      ],
      "execution_count": null,
      "outputs": []
    },
    {
      "cell_type": "code",
      "metadata": {
        "colab": {
          "base_uri": "https://localhost:8080/"
        },
        "id": "zOXzdUngDlTk",
        "outputId": "b43bc522-d2d4-4d01-974a-2b6dcb67340c"
      },
      "source": [
        "y_train[n]"
      ],
      "execution_count": null,
      "outputs": [
        {
          "output_type": "execute_result",
          "data": {
            "text/plain": [
              "array([1., 0., 0.], dtype=float32)"
            ]
          },
          "metadata": {
            "tags": []
          },
          "execution_count": 14
        }
      ]
    },
    {
      "cell_type": "markdown",
      "metadata": {
        "id": "Sftnku6_7Feg"
      },
      "source": [
        "### 3. 用 ResNet50 打造我們的神經網路\n",
        "\n",
        "ResNet50 是 2015 ImageNet 的冠軍, 我們用第二版來試試。原本 ImageNet 是做了 1,000 個類別的圖形辨識。我們想直接用來辨識八哥, 就是把最後一層 (通常就 1,000 個輸出的 dense 層) 砍掉 (`include_top=False`), 然後換我們的就好。\n",
        "\n",
        "再來我們可以把每個 filter 的結果做個大總合, 例如算每個 filter 計分板的總平均 (global avg pooling), 這本來該我們自己做, 但是 `tf.Keras` 是善良無比的幫我們做好。只要下個參數 `pooling=\"avg\"`)。"
      ]
    },
    {
      "cell_type": "code",
      "metadata": {
        "id": "Go240WpEAafX"
      },
      "source": [
        "from tensorflow.keras.applications import ResNet50V2 #resnet 本來就是 cnn\n",
        "from tensorflow.keras.models import Sequential\n",
        "from tensorflow.keras.layers import Dense"
      ],
      "execution_count": null,
      "outputs": []
    },
    {
      "cell_type": "code",
      "metadata": {
        "id": "1k8c9Y9_AyfC",
        "colab": {
          "base_uri": "https://localhost:8080/"
        },
        "outputId": "e15d1a36-2632-446e-a7b8-726886b4572f"
      },
      "source": [
        "resnet = ResNet50V2(include_top=False, pooling=\"avg\")"
      ],
      "execution_count": null,
      "outputs": [
        {
          "output_type": "stream",
          "text": [
            "Downloading data from https://storage.googleapis.com/tensorflow/keras-applications/resnet/resnet50v2_weights_tf_dim_ordering_tf_kernels_notop.h5\n",
            "94674944/94668760 [==============================] - 1s 0us/step\n"
          ],
          "name": "stdout"
        }
      ]
    },
    {
      "cell_type": "markdown",
      "metadata": {
        "id": "KWCOXJ_7T86s"
      },
      "source": [
        "我們是遷移式學習, 原本 ResNet 的部份我們當然沒有重新訓練的意思。於是就設這邊不需要訓練。"
      ]
    },
    {
      "cell_type": "code",
      "metadata": {
        "id": "N_D6muHJEFRw"
      },
      "source": [
        "resnet.trainable = False #凍結權重"
      ],
      "execution_count": null,
      "outputs": []
    },
    {
      "cell_type": "markdown",
      "metadata": {
        "id": "9dmUXgR-UPNg"
      },
      "source": [
        "再來就是正式打造我們遷移學習版的函數學習機! 可以發現我們只是加入了最後一層..."
      ]
    },
    {
      "cell_type": "code",
      "metadata": {
        "id": "2m6sfEs9A8xo"
      },
      "source": [
        "model = Sequential()"
      ],
      "execution_count": null,
      "outputs": []
    },
    {
      "cell_type": "code",
      "metadata": {
        "id": "tp8sxGYwBDwS"
      },
      "source": [
        "model.add(resnet)"
      ],
      "execution_count": null,
      "outputs": []
    },
    {
      "cell_type": "code",
      "metadata": {
        "id": "nchi5fV2BE7Q"
      },
      "source": [
        "model.add(Dense(3, activation='softmax'))"
      ],
      "execution_count": null,
      "outputs": []
    },
    {
      "cell_type": "markdown",
      "metadata": {
        "id": "vKCBLQ3VBIYW"
      },
      "source": [
        "#### 組裝我們的函數學習機\n",
        "\n",
        "這裡我們用分類時非常標準的 `categorical_crossentropy`, 順便試試有名的 `adam` 學習法。"
      ]
    },
    {
      "cell_type": "code",
      "metadata": {
        "id": "NoltdpL6Ea64"
      },
      "source": [
        "model.compile(loss='categorical_crossentropy', \n",
        "              optimizer='adam', \n",
        "              metrics=['accuracy']) #crossentropy!散亂程度的一個測量方式。那麼是如何計算誤差？"
      ],
      "execution_count": null,
      "outputs": []
    },
    {
      "cell_type": "markdown",
      "metadata": {
        "id": "w25nPxjlVhGZ"
      },
      "source": [
        "#### 欣賞我們的神經網路"
      ]
    },
    {
      "cell_type": "code",
      "metadata": {
        "colab": {
          "base_uri": "https://localhost:8080/"
        },
        "id": "CY9y9C01BPVr",
        "outputId": "9550095a-dc73-46c6-8343-36eab1a1f9b8"
      },
      "source": [
        "model.summary() #search: transfer learning #functional API"
      ],
      "execution_count": null,
      "outputs": [
        {
          "output_type": "stream",
          "text": [
            "Model: \"sequential\"\n",
            "_________________________________________________________________\n",
            "Layer (type)                 Output Shape              Param #   \n",
            "=================================================================\n",
            "resnet50v2 (Functional)      (None, 2048)              23564800  \n",
            "_________________________________________________________________\n",
            "dense (Dense)                (None, 3)                 6147      \n",
            "=================================================================\n",
            "Total params: 23,570,947\n",
            "Trainable params: 6,147\n",
            "Non-trainable params: 23,564,800\n",
            "_________________________________________________________________\n"
          ],
          "name": "stdout"
        }
      ]
    },
    {
      "cell_type": "code",
      "metadata": {
        "colab": {
          "base_uri": "https://localhost:8080/"
        },
        "id": "JDdD_E1kMn8W",
        "outputId": "efc9268f-32a8-4a79-a32c-b44668175f29"
      },
      "source": [
        "2048*3+3"
      ],
      "execution_count": null,
      "outputs": [
        {
          "output_type": "execute_result",
          "data": {
            "text/plain": [
              "6147"
            ]
          },
          "metadata": {
            "tags": []
          },
          "execution_count": 23
        }
      ]
    },
    {
      "cell_type": "markdown",
      "metadata": {
        "id": "erjRjf2pVqcg"
      },
      "source": [
        "我們可以發現原來有超過兩千萬個參數, 經我們偷來, 不是, 借來以後, 只有 6,147 個參數要調。"
      ]
    },
    {
      "cell_type": "markdown",
      "metadata": {
        "id": "PL9rSPyOBQ1x"
      },
      "source": [
        "### 4. 訓練 fit\n",
        "\n",
        "這裡我們全部的資料也只有 9 筆, 所以 `batch_size` 就選擇 9 了..."
      ]
    },
    {
      "cell_type": "code",
      "metadata": {
        "colab": {
          "base_uri": "https://localhost:8080/"
        },
        "id": "VzTw2kZVEQir",
        "outputId": "df256de9-d9fa-4432-cd4f-c0f80f5969f9"
      },
      "source": [
        "model.fit(x_train, y_train, batch_size=9, epochs=35)"
      ],
      "execution_count": null,
      "outputs": [
        {
          "output_type": "stream",
          "text": [
            "Epoch 1/35\n",
            "1/1 [==============================] - 33s 33s/step - loss: 126.8119 - accuracy: 0.3333\n",
            "Epoch 2/35\n",
            "1/1 [==============================] - 0s 34ms/step - loss: 47.8487 - accuracy: 0.4444\n",
            "Epoch 3/35\n",
            "1/1 [==============================] - 0s 42ms/step - loss: 36.6220 - accuracy: 0.4444\n",
            "Epoch 4/35\n",
            "1/1 [==============================] - 0s 34ms/step - loss: 45.2790 - accuracy: 0.5556\n",
            "Epoch 5/35\n",
            "1/1 [==============================] - 0s 36ms/step - loss: 58.8004 - accuracy: 0.3333\n",
            "Epoch 6/35\n",
            "1/1 [==============================] - 0s 43ms/step - loss: 29.8007 - accuracy: 0.3333\n",
            "Epoch 7/35\n",
            "1/1 [==============================] - 0s 36ms/step - loss: 9.7848 - accuracy: 0.5556\n",
            "Epoch 8/35\n",
            "1/1 [==============================] - 0s 37ms/step - loss: 19.4696 - accuracy: 0.5556\n",
            "Epoch 9/35\n",
            "1/1 [==============================] - 0s 37ms/step - loss: 26.3393 - accuracy: 0.6667\n",
            "Epoch 10/35\n",
            "1/1 [==============================] - 0s 38ms/step - loss: 29.3043 - accuracy: 0.4444\n",
            "Epoch 11/35\n",
            "1/1 [==============================] - 0s 35ms/step - loss: 28.6657 - accuracy: 0.4444\n",
            "Epoch 12/35\n",
            "1/1 [==============================] - 0s 37ms/step - loss: 21.3971 - accuracy: 0.5556\n",
            "Epoch 13/35\n",
            "1/1 [==============================] - 0s 36ms/step - loss: 12.6114 - accuracy: 0.7778\n",
            "Epoch 14/35\n",
            "1/1 [==============================] - 0s 37ms/step - loss: 4.3955 - accuracy: 0.8889\n",
            "Epoch 15/35\n",
            "1/1 [==============================] - 0s 37ms/step - loss: 2.6632 - accuracy: 0.7778\n",
            "Epoch 16/35\n",
            "1/1 [==============================] - 0s 37ms/step - loss: 6.2808 - accuracy: 0.8889\n",
            "Epoch 17/35\n",
            "1/1 [==============================] - 0s 41ms/step - loss: 8.4233 - accuracy: 0.7778\n",
            "Epoch 18/35\n",
            "1/1 [==============================] - 0s 37ms/step - loss: 9.8873 - accuracy: 0.5556\n",
            "Epoch 19/35\n",
            "1/1 [==============================] - 0s 40ms/step - loss: 2.3495 - accuracy: 0.8889\n",
            "Epoch 20/35\n",
            "1/1 [==============================] - 0s 39ms/step - loss: 0.9939 - accuracy: 0.8889\n",
            "Epoch 21/35\n",
            "1/1 [==============================] - 0s 41ms/step - loss: 2.4890 - accuracy: 0.7778\n",
            "Epoch 22/35\n",
            "1/1 [==============================] - 0s 36ms/step - loss: 3.1071 - accuracy: 0.7778\n",
            "Epoch 23/35\n",
            "1/1 [==============================] - 0s 38ms/step - loss: 1.4558 - accuracy: 0.7778\n",
            "Epoch 24/35\n",
            "1/1 [==============================] - 0s 38ms/step - loss: 5.2254e-05 - accuracy: 1.0000\n",
            "Epoch 25/35\n",
            "1/1 [==============================] - 0s 37ms/step - loss: 0.1019 - accuracy: 0.8889\n",
            "Epoch 26/35\n",
            "1/1 [==============================] - 0s 42ms/step - loss: 3.4641 - accuracy: 0.6667\n",
            "Epoch 27/35\n",
            "1/1 [==============================] - 0s 37ms/step - loss: 0.1681 - accuracy: 0.8889\n",
            "Epoch 28/35\n",
            "1/1 [==============================] - 0s 40ms/step - loss: 7.9473e-08 - accuracy: 1.0000\n",
            "Epoch 29/35\n",
            "1/1 [==============================] - 0s 41ms/step - loss: 0.0000e+00 - accuracy: 1.0000\n",
            "Epoch 30/35\n",
            "1/1 [==============================] - 0s 41ms/step - loss: 0.0000e+00 - accuracy: 1.0000\n",
            "Epoch 31/35\n",
            "1/1 [==============================] - 0s 37ms/step - loss: 0.0000e+00 - accuracy: 1.0000\n",
            "Epoch 32/35\n",
            "1/1 [==============================] - 0s 38ms/step - loss: 0.0000e+00 - accuracy: 1.0000\n",
            "Epoch 33/35\n",
            "1/1 [==============================] - 0s 38ms/step - loss: 0.0000e+00 - accuracy: 1.0000\n",
            "Epoch 34/35\n",
            "1/1 [==============================] - 0s 35ms/step - loss: 9.2718e-08 - accuracy: 1.0000\n",
            "Epoch 35/35\n",
            "1/1 [==============================] - 0s 37ms/step - loss: 0.0016 - accuracy: 1.0000\n"
          ],
          "name": "stdout"
        },
        {
          "output_type": "execute_result",
          "data": {
            "text/plain": [
              "<tensorflow.python.keras.callbacks.History at 0x7f75722a9f90>"
            ]
          },
          "metadata": {
            "tags": []
          },
          "execution_count": 24
        }
      ]
    },
    {
      "cell_type": "markdown",
      "metadata": {
        "id": "waww_G0PW4c6"
      },
      "source": [
        "### 5. 預測\n",
        "\n",
        "對了, 為何這次我們沒有切測試一一資料呢? 那是因為畢竟我們每張八哥只有 3 張照片。我們可以看一下訓練成果。"
      ]
    },
    {
      "cell_type": "code",
      "metadata": {
        "id": "vvw3AApMLI7c"
      },
      "source": [
        "y_predict = np.argmax(model.predict(x_train), -1)"
      ],
      "execution_count": null,
      "outputs": []
    },
    {
      "cell_type": "code",
      "metadata": {
        "colab": {
          "base_uri": "https://localhost:8080/"
        },
        "id": "GpQZY-ITLU51",
        "outputId": "41c1ac7a-867c-4f17-de02-c6334a1409bf"
      },
      "source": [
        "y_predict"
      ],
      "execution_count": null,
      "outputs": [
        {
          "output_type": "execute_result",
          "data": {
            "text/plain": [
              "array([0, 0, 0, 1, 1, 1, 0, 2, 2])"
            ]
          },
          "metadata": {
            "tags": []
          },
          "execution_count": 26
        }
      ]
    },
    {
      "cell_type": "markdown",
      "metadata": {
        "id": "UI6ThXzvXOd3"
      },
      "source": [
        "好奇的話比較一下正確答案。"
      ]
    },
    {
      "cell_type": "code",
      "metadata": {
        "colab": {
          "base_uri": "https://localhost:8080/"
        },
        "id": "DBkkSdRQLV5H",
        "outputId": "e856eb7d-5adb-498d-a189-4eba957b91d0"
      },
      "source": [
        "target-1"
      ],
      "execution_count": null,
      "outputs": [
        {
          "output_type": "execute_result",
          "data": {
            "text/plain": [
              "array([0, 0, 0, 1, 1, 1, 2, 2, 2])"
            ]
          },
          "metadata": {
            "tags": []
          },
          "execution_count": 27
        }
      ]
    },
    {
      "cell_type": "markdown",
      "metadata": {
        "id": "vNWWP0lsE8Lz"
      },
      "source": [
        "#### 三種八哥的 `labels`"
      ]
    },
    {
      "cell_type": "code",
      "metadata": {
        "id": "RQJU5RDrGUjM"
      },
      "source": [
        "labels=[\"白尾八哥\", \"家八哥\", \"(土)八哥\"]"
      ],
      "execution_count": null,
      "outputs": []
    },
    {
      "cell_type": "markdown",
      "metadata": {
        "id": "u84Ar-MJLFg1"
      },
      "source": [
        "### 6. 用 `gradio` 打造八哥辨識 web app!"
      ]
    },
    {
      "cell_type": "code",
      "metadata": {
        "colab": {
          "base_uri": "https://localhost:8080/"
        },
        "id": "21PbxPinGbGC",
        "outputId": "394efc09-0609-42e4-9611-963edb62193b"
      },
      "source": [
        "!pip install gradio"
      ],
      "execution_count": null,
      "outputs": [
        {
          "output_type": "stream",
          "text": [
            "Collecting gradio\n",
            "  Downloading gradio-2.2.3-py3-none-any.whl (2.4 MB)\n",
            "\u001b[?25l\r\u001b[K     |▏                               | 10 kB 29.1 MB/s eta 0:00:01\r\u001b[K     |▎                               | 20 kB 34.4 MB/s eta 0:00:01\r\u001b[K     |▍                               | 30 kB 34.9 MB/s eta 0:00:01\r\u001b[K     |▌                               | 40 kB 37.9 MB/s eta 0:00:01\r\u001b[K     |▊                               | 51 kB 40.9 MB/s eta 0:00:01\r\u001b[K     |▉                               | 61 kB 43.2 MB/s eta 0:00:01\r\u001b[K     |█                               | 71 kB 32.4 MB/s eta 0:00:01\r\u001b[K     |█                               | 81 kB 33.1 MB/s eta 0:00:01\r\u001b[K     |█▏                              | 92 kB 30.1 MB/s eta 0:00:01\r\u001b[K     |█▍                              | 102 kB 27.2 MB/s eta 0:00:01\r\u001b[K     |█▌                              | 112 kB 27.2 MB/s eta 0:00:01\r\u001b[K     |█▋                              | 122 kB 27.2 MB/s eta 0:00:01\r\u001b[K     |█▊                              | 133 kB 27.2 MB/s eta 0:00:01\r\u001b[K     |██                              | 143 kB 27.2 MB/s eta 0:00:01\r\u001b[K     |██                              | 153 kB 27.2 MB/s eta 0:00:01\r\u001b[K     |██▏                             | 163 kB 27.2 MB/s eta 0:00:01\r\u001b[K     |██▎                             | 174 kB 27.2 MB/s eta 0:00:01\r\u001b[K     |██▍                             | 184 kB 27.2 MB/s eta 0:00:01\r\u001b[K     |██▋                             | 194 kB 27.2 MB/s eta 0:00:01\r\u001b[K     |██▊                             | 204 kB 27.2 MB/s eta 0:00:01\r\u001b[K     |██▉                             | 215 kB 27.2 MB/s eta 0:00:01\r\u001b[K     |███                             | 225 kB 27.2 MB/s eta 0:00:01\r\u001b[K     |███▏                            | 235 kB 27.2 MB/s eta 0:00:01\r\u001b[K     |███▎                            | 245 kB 27.2 MB/s eta 0:00:01\r\u001b[K     |███▍                            | 256 kB 27.2 MB/s eta 0:00:01\r\u001b[K     |███▌                            | 266 kB 27.2 MB/s eta 0:00:01\r\u001b[K     |███▋                            | 276 kB 27.2 MB/s eta 0:00:01\r\u001b[K     |███▉                            | 286 kB 27.2 MB/s eta 0:00:01\r\u001b[K     |████                            | 296 kB 27.2 MB/s eta 0:00:01\r\u001b[K     |████                            | 307 kB 27.2 MB/s eta 0:00:01\r\u001b[K     |████▏                           | 317 kB 27.2 MB/s eta 0:00:01\r\u001b[K     |████▍                           | 327 kB 27.2 MB/s eta 0:00:01\r\u001b[K     |████▌                           | 337 kB 27.2 MB/s eta 0:00:01\r\u001b[K     |████▋                           | 348 kB 27.2 MB/s eta 0:00:01\r\u001b[K     |████▊                           | 358 kB 27.2 MB/s eta 0:00:01\r\u001b[K     |████▉                           | 368 kB 27.2 MB/s eta 0:00:01\r\u001b[K     |█████                           | 378 kB 27.2 MB/s eta 0:00:01\r\u001b[K     |█████▏                          | 389 kB 27.2 MB/s eta 0:00:01\r\u001b[K     |█████▎                          | 399 kB 27.2 MB/s eta 0:00:01\r\u001b[K     |█████▍                          | 409 kB 27.2 MB/s eta 0:00:01\r\u001b[K     |█████▌                          | 419 kB 27.2 MB/s eta 0:00:01\r\u001b[K     |█████▊                          | 430 kB 27.2 MB/s eta 0:00:01\r\u001b[K     |█████▉                          | 440 kB 27.2 MB/s eta 0:00:01\r\u001b[K     |██████                          | 450 kB 27.2 MB/s eta 0:00:01\r\u001b[K     |██████                          | 460 kB 27.2 MB/s eta 0:00:01\r\u001b[K     |██████▎                         | 471 kB 27.2 MB/s eta 0:00:01\r\u001b[K     |██████▍                         | 481 kB 27.2 MB/s eta 0:00:01\r\u001b[K     |██████▌                         | 491 kB 27.2 MB/s eta 0:00:01\r\u001b[K     |██████▋                         | 501 kB 27.2 MB/s eta 0:00:01\r\u001b[K     |██████▊                         | 512 kB 27.2 MB/s eta 0:00:01\r\u001b[K     |███████                         | 522 kB 27.2 MB/s eta 0:00:01\r\u001b[K     |███████                         | 532 kB 27.2 MB/s eta 0:00:01\r\u001b[K     |███████▏                        | 542 kB 27.2 MB/s eta 0:00:01\r\u001b[K     |███████▎                        | 552 kB 27.2 MB/s eta 0:00:01\r\u001b[K     |███████▌                        | 563 kB 27.2 MB/s eta 0:00:01\r\u001b[K     |███████▋                        | 573 kB 27.2 MB/s eta 0:00:01\r\u001b[K     |███████▊                        | 583 kB 27.2 MB/s eta 0:00:01\r\u001b[K     |███████▉                        | 593 kB 27.2 MB/s eta 0:00:01\r\u001b[K     |████████                        | 604 kB 27.2 MB/s eta 0:00:01\r\u001b[K     |████████▏                       | 614 kB 27.2 MB/s eta 0:00:01\r\u001b[K     |████████▎                       | 624 kB 27.2 MB/s eta 0:00:01\r\u001b[K     |████████▍                       | 634 kB 27.2 MB/s eta 0:00:01\r\u001b[K     |████████▌                       | 645 kB 27.2 MB/s eta 0:00:01\r\u001b[K     |████████▊                       | 655 kB 27.2 MB/s eta 0:00:01\r\u001b[K     |████████▉                       | 665 kB 27.2 MB/s eta 0:00:01\r\u001b[K     |█████████                       | 675 kB 27.2 MB/s eta 0:00:01\r\u001b[K     |█████████                       | 686 kB 27.2 MB/s eta 0:00:01\r\u001b[K     |█████████▏                      | 696 kB 27.2 MB/s eta 0:00:01\r\u001b[K     |█████████▍                      | 706 kB 27.2 MB/s eta 0:00:01\r\u001b[K     |█████████▌                      | 716 kB 27.2 MB/s eta 0:00:01\r\u001b[K     |█████████▋                      | 727 kB 27.2 MB/s eta 0:00:01\r\u001b[K     |█████████▊                      | 737 kB 27.2 MB/s eta 0:00:01\r\u001b[K     |█████████▉                      | 747 kB 27.2 MB/s eta 0:00:01\r\u001b[K     |██████████                      | 757 kB 27.2 MB/s eta 0:00:01\r\u001b[K     |██████████▏                     | 768 kB 27.2 MB/s eta 0:00:01\r\u001b[K     |██████████▎                     | 778 kB 27.2 MB/s eta 0:00:01\r\u001b[K     |██████████▍                     | 788 kB 27.2 MB/s eta 0:00:01\r\u001b[K     |██████████▋                     | 798 kB 27.2 MB/s eta 0:00:01\r\u001b[K     |██████████▊                     | 808 kB 27.2 MB/s eta 0:00:01\r\u001b[K     |██████████▉                     | 819 kB 27.2 MB/s eta 0:00:01\r\u001b[K     |███████████                     | 829 kB 27.2 MB/s eta 0:00:01\r\u001b[K     |███████████                     | 839 kB 27.2 MB/s eta 0:00:01\r\u001b[K     |███████████▎                    | 849 kB 27.2 MB/s eta 0:00:01\r\u001b[K     |███████████▍                    | 860 kB 27.2 MB/s eta 0:00:01\r\u001b[K     |███████████▌                    | 870 kB 27.2 MB/s eta 0:00:01\r\u001b[K     |███████████▋                    | 880 kB 27.2 MB/s eta 0:00:01\r\u001b[K     |███████████▉                    | 890 kB 27.2 MB/s eta 0:00:01\r\u001b[K     |████████████                    | 901 kB 27.2 MB/s eta 0:00:01\r\u001b[K     |████████████                    | 911 kB 27.2 MB/s eta 0:00:01\r\u001b[K     |████████████▏                   | 921 kB 27.2 MB/s eta 0:00:01\r\u001b[K     |████████████▎                   | 931 kB 27.2 MB/s eta 0:00:01\r\u001b[K     |████████████▌                   | 942 kB 27.2 MB/s eta 0:00:01\r\u001b[K     |████████████▋                   | 952 kB 27.2 MB/s eta 0:00:01\r\u001b[K     |████████████▊                   | 962 kB 27.2 MB/s eta 0:00:01\r\u001b[K     |████████████▉                   | 972 kB 27.2 MB/s eta 0:00:01\r\u001b[K     |█████████████                   | 983 kB 27.2 MB/s eta 0:00:01\r\u001b[K     |█████████████▏                  | 993 kB 27.2 MB/s eta 0:00:01\r\u001b[K     |█████████████▎                  | 1.0 MB 27.2 MB/s eta 0:00:01\r\u001b[K     |█████████████▍                  | 1.0 MB 27.2 MB/s eta 0:00:01\r\u001b[K     |█████████████▌                  | 1.0 MB 27.2 MB/s eta 0:00:01\r\u001b[K     |█████████████▊                  | 1.0 MB 27.2 MB/s eta 0:00:01\r\u001b[K     |█████████████▉                  | 1.0 MB 27.2 MB/s eta 0:00:01\r\u001b[K     |██████████████                  | 1.1 MB 27.2 MB/s eta 0:00:01\r\u001b[K     |██████████████                  | 1.1 MB 27.2 MB/s eta 0:00:01\r\u001b[K     |██████████████▎                 | 1.1 MB 27.2 MB/s eta 0:00:01\r\u001b[K     |██████████████▍                 | 1.1 MB 27.2 MB/s eta 0:00:01\r\u001b[K     |██████████████▌                 | 1.1 MB 27.2 MB/s eta 0:00:01\r\u001b[K     |██████████████▋                 | 1.1 MB 27.2 MB/s eta 0:00:01\r\u001b[K     |██████████████▊                 | 1.1 MB 27.2 MB/s eta 0:00:01\r\u001b[K     |███████████████                 | 1.1 MB 27.2 MB/s eta 0:00:01\r\u001b[K     |███████████████                 | 1.1 MB 27.2 MB/s eta 0:00:01\r\u001b[K     |███████████████▏                | 1.1 MB 27.2 MB/s eta 0:00:01\r\u001b[K     |███████████████▎                | 1.2 MB 27.2 MB/s eta 0:00:01\r\u001b[K     |███████████████▍                | 1.2 MB 27.2 MB/s eta 0:00:01\r\u001b[K     |███████████████▋                | 1.2 MB 27.2 MB/s eta 0:00:01\r\u001b[K     |███████████████▊                | 1.2 MB 27.2 MB/s eta 0:00:01\r\u001b[K     |███████████████▉                | 1.2 MB 27.2 MB/s eta 0:00:01\r\u001b[K     |████████████████                | 1.2 MB 27.2 MB/s eta 0:00:01\r\u001b[K     |████████████████▏               | 1.2 MB 27.2 MB/s eta 0:00:01\r\u001b[K     |████████████████▎               | 1.2 MB 27.2 MB/s eta 0:00:01\r\u001b[K     |████████████████▍               | 1.2 MB 27.2 MB/s eta 0:00:01\r\u001b[K     |████████████████▌               | 1.2 MB 27.2 MB/s eta 0:00:01\r\u001b[K     |████████████████▋               | 1.3 MB 27.2 MB/s eta 0:00:01\r\u001b[K     |████████████████▉               | 1.3 MB 27.2 MB/s eta 0:00:01\r\u001b[K     |█████████████████               | 1.3 MB 27.2 MB/s eta 0:00:01\r\u001b[K     |█████████████████               | 1.3 MB 27.2 MB/s eta 0:00:01\r\u001b[K     |█████████████████▏              | 1.3 MB 27.2 MB/s eta 0:00:01\r\u001b[K     |█████████████████▍              | 1.3 MB 27.2 MB/s eta 0:00:01\r\u001b[K     |█████████████████▌              | 1.3 MB 27.2 MB/s eta 0:00:01\r\u001b[K     |█████████████████▋              | 1.3 MB 27.2 MB/s eta 0:00:01\r\u001b[K     |█████████████████▊              | 1.3 MB 27.2 MB/s eta 0:00:01\r\u001b[K     |█████████████████▉              | 1.4 MB 27.2 MB/s eta 0:00:01\r\u001b[K     |██████████████████              | 1.4 MB 27.2 MB/s eta 0:00:01\r\u001b[K     |██████████████████▏             | 1.4 MB 27.2 MB/s eta 0:00:01\r\u001b[K     |██████████████████▎             | 1.4 MB 27.2 MB/s eta 0:00:01\r\u001b[K     |██████████████████▍             | 1.4 MB 27.2 MB/s eta 0:00:01\r\u001b[K     |██████████████████▋             | 1.4 MB 27.2 MB/s eta 0:00:01\r\u001b[K     |██████████████████▊             | 1.4 MB 27.2 MB/s eta 0:00:01\r\u001b[K     |██████████████████▉             | 1.4 MB 27.2 MB/s eta 0:00:01\r\u001b[K     |███████████████████             | 1.4 MB 27.2 MB/s eta 0:00:01\r\u001b[K     |███████████████████             | 1.4 MB 27.2 MB/s eta 0:00:01\r\u001b[K     |███████████████████▎            | 1.5 MB 27.2 MB/s eta 0:00:01\r\u001b[K     |███████████████████▍            | 1.5 MB 27.2 MB/s eta 0:00:01\r\u001b[K     |███████████████████▌            | 1.5 MB 27.2 MB/s eta 0:00:01\r\u001b[K     |███████████████████▋            | 1.5 MB 27.2 MB/s eta 0:00:01\r\u001b[K     |███████████████████▊            | 1.5 MB 27.2 MB/s eta 0:00:01\r\u001b[K     |████████████████████            | 1.5 MB 27.2 MB/s eta 0:00:01\r\u001b[K     |████████████████████            | 1.5 MB 27.2 MB/s eta 0:00:01\r\u001b[K     |████████████████████▏           | 1.5 MB 27.2 MB/s eta 0:00:01\r\u001b[K     |████████████████████▎           | 1.5 MB 27.2 MB/s eta 0:00:01\r\u001b[K     |████████████████████▌           | 1.5 MB 27.2 MB/s eta 0:00:01\r\u001b[K     |████████████████████▋           | 1.6 MB 27.2 MB/s eta 0:00:01\r\u001b[K     |████████████████████▊           | 1.6 MB 27.2 MB/s eta 0:00:01\r\u001b[K     |████████████████████▉           | 1.6 MB 27.2 MB/s eta 0:00:01\r\u001b[K     |█████████████████████           | 1.6 MB 27.2 MB/s eta 0:00:01\r\u001b[K     |█████████████████████▏          | 1.6 MB 27.2 MB/s eta 0:00:01\r\u001b[K     |█████████████████████▎          | 1.6 MB 27.2 MB/s eta 0:00:01\r\u001b[K     |█████████████████████▍          | 1.6 MB 27.2 MB/s eta 0:00:01\r\u001b[K     |█████████████████████▌          | 1.6 MB 27.2 MB/s eta 0:00:01\r\u001b[K     |█████████████████████▊          | 1.6 MB 27.2 MB/s eta 0:00:01\r\u001b[K     |█████████████████████▉          | 1.6 MB 27.2 MB/s eta 0:00:01\r\u001b[K     |██████████████████████          | 1.7 MB 27.2 MB/s eta 0:00:01\r\u001b[K     |██████████████████████          | 1.7 MB 27.2 MB/s eta 0:00:01\r\u001b[K     |██████████████████████▏         | 1.7 MB 27.2 MB/s eta 0:00:01\r\u001b[K     |██████████████████████▍         | 1.7 MB 27.2 MB/s eta 0:00:01\r\u001b[K     |██████████████████████▌         | 1.7 MB 27.2 MB/s eta 0:00:01\r\u001b[K     |██████████████████████▋         | 1.7 MB 27.2 MB/s eta 0:00:01\r\u001b[K     |██████████████████████▊         | 1.7 MB 27.2 MB/s eta 0:00:01\r\u001b[K     |███████████████████████         | 1.7 MB 27.2 MB/s eta 0:00:01\r\u001b[K     |███████████████████████         | 1.7 MB 27.2 MB/s eta 0:00:01\r\u001b[K     |███████████████████████▏        | 1.8 MB 27.2 MB/s eta 0:00:01\r\u001b[K     |███████████████████████▎        | 1.8 MB 27.2 MB/s eta 0:00:01\r\u001b[K     |███████████████████████▍        | 1.8 MB 27.2 MB/s eta 0:00:01\r\u001b[K     |███████████████████████▋        | 1.8 MB 27.2 MB/s eta 0:00:01\r\u001b[K     |███████████████████████▊        | 1.8 MB 27.2 MB/s eta 0:00:01\r\u001b[K     |███████████████████████▉        | 1.8 MB 27.2 MB/s eta 0:00:01\r\u001b[K     |████████████████████████        | 1.8 MB 27.2 MB/s eta 0:00:01\r\u001b[K     |████████████████████████▏       | 1.8 MB 27.2 MB/s eta 0:00:01\r\u001b[K     |████████████████████████▎       | 1.8 MB 27.2 MB/s eta 0:00:01\r\u001b[K     |████████████████████████▍       | 1.8 MB 27.2 MB/s eta 0:00:01\r\u001b[K     |████████████████████████▌       | 1.9 MB 27.2 MB/s eta 0:00:01\r\u001b[K     |████████████████████████▋       | 1.9 MB 27.2 MB/s eta 0:00:01\r\u001b[K     |████████████████████████▉       | 1.9 MB 27.2 MB/s eta 0:00:01\r\u001b[K     |█████████████████████████       | 1.9 MB 27.2 MB/s eta 0:00:01\r\u001b[K     |█████████████████████████       | 1.9 MB 27.2 MB/s eta 0:00:01\r\u001b[K     |█████████████████████████▏      | 1.9 MB 27.2 MB/s eta 0:00:01\r\u001b[K     |█████████████████████████▎      | 1.9 MB 27.2 MB/s eta 0:00:01\r\u001b[K     |█████████████████████████▌      | 1.9 MB 27.2 MB/s eta 0:00:01\r\u001b[K     |█████████████████████████▋      | 1.9 MB 27.2 MB/s eta 0:00:01\r\u001b[K     |█████████████████████████▊      | 1.9 MB 27.2 MB/s eta 0:00:01\r\u001b[K     |█████████████████████████▉      | 2.0 MB 27.2 MB/s eta 0:00:01\r\u001b[K     |██████████████████████████      | 2.0 MB 27.2 MB/s eta 0:00:01\r\u001b[K     |██████████████████████████▏     | 2.0 MB 27.2 MB/s eta 0:00:01\r\u001b[K     |██████████████████████████▎     | 2.0 MB 27.2 MB/s eta 0:00:01\r\u001b[K     |██████████████████████████▍     | 2.0 MB 27.2 MB/s eta 0:00:01\r\u001b[K     |██████████████████████████▌     | 2.0 MB 27.2 MB/s eta 0:00:01\r\u001b[K     |██████████████████████████▊     | 2.0 MB 27.2 MB/s eta 0:00:01\r\u001b[K     |██████████████████████████▉     | 2.0 MB 27.2 MB/s eta 0:00:01\r\u001b[K     |███████████████████████████     | 2.0 MB 27.2 MB/s eta 0:00:01\r\u001b[K     |███████████████████████████     | 2.0 MB 27.2 MB/s eta 0:00:01\r\u001b[K     |███████████████████████████▎    | 2.1 MB 27.2 MB/s eta 0:00:01\r\u001b[K     |███████████████████████████▍    | 2.1 MB 27.2 MB/s eta 0:00:01\r\u001b[K     |███████████████████████████▌    | 2.1 MB 27.2 MB/s eta 0:00:01\r\u001b[K     |███████████████████████████▋    | 2.1 MB 27.2 MB/s eta 0:00:01\r\u001b[K     |███████████████████████████▊    | 2.1 MB 27.2 MB/s eta 0:00:01\r\u001b[K     |████████████████████████████    | 2.1 MB 27.2 MB/s eta 0:00:01\r\u001b[K     |████████████████████████████    | 2.1 MB 27.2 MB/s eta 0:00:01\r\u001b[K     |████████████████████████████▏   | 2.1 MB 27.2 MB/s eta 0:00:01\r\u001b[K     |████████████████████████████▎   | 2.1 MB 27.2 MB/s eta 0:00:01\r\u001b[K     |████████████████████████████▌   | 2.2 MB 27.2 MB/s eta 0:00:01\r\u001b[K     |████████████████████████████▋   | 2.2 MB 27.2 MB/s eta 0:00:01\r\u001b[K     |████████████████████████████▊   | 2.2 MB 27.2 MB/s eta 0:00:01\r\u001b[K     |████████████████████████████▉   | 2.2 MB 27.2 MB/s eta 0:00:01\r\u001b[K     |█████████████████████████████   | 2.2 MB 27.2 MB/s eta 0:00:01\r\u001b[K     |█████████████████████████████▏  | 2.2 MB 27.2 MB/s eta 0:00:01\r\u001b[K     |█████████████████████████████▎  | 2.2 MB 27.2 MB/s eta 0:00:01\r\u001b[K     |█████████████████████████████▍  | 2.2 MB 27.2 MB/s eta 0:00:01\r\u001b[K     |█████████████████████████████▌  | 2.2 MB 27.2 MB/s eta 0:00:01\r\u001b[K     |█████████████████████████████▋  | 2.2 MB 27.2 MB/s eta 0:00:01\r\u001b[K     |█████████████████████████████▉  | 2.3 MB 27.2 MB/s eta 0:00:01\r\u001b[K     |██████████████████████████████  | 2.3 MB 27.2 MB/s eta 0:00:01\r\u001b[K     |██████████████████████████████  | 2.3 MB 27.2 MB/s eta 0:00:01\r\u001b[K     |██████████████████████████████▏ | 2.3 MB 27.2 MB/s eta 0:00:01\r\u001b[K     |██████████████████████████████▍ | 2.3 MB 27.2 MB/s eta 0:00:01\r\u001b[K     |██████████████████████████████▌ | 2.3 MB 27.2 MB/s eta 0:00:01\r\u001b[K     |██████████████████████████████▋ | 2.3 MB 27.2 MB/s eta 0:00:01\r\u001b[K     |██████████████████████████████▊ | 2.3 MB 27.2 MB/s eta 0:00:01\r\u001b[K     |██████████████████████████████▉ | 2.3 MB 27.2 MB/s eta 0:00:01\r\u001b[K     |███████████████████████████████ | 2.3 MB 27.2 MB/s eta 0:00:01\r\u001b[K     |███████████████████████████████▏| 2.4 MB 27.2 MB/s eta 0:00:01\r\u001b[K     |███████████████████████████████▎| 2.4 MB 27.2 MB/s eta 0:00:01\r\u001b[K     |███████████████████████████████▍| 2.4 MB 27.2 MB/s eta 0:00:01\r\u001b[K     |███████████████████████████████▋| 2.4 MB 27.2 MB/s eta 0:00:01\r\u001b[K     |███████████████████████████████▊| 2.4 MB 27.2 MB/s eta 0:00:01\r\u001b[K     |███████████████████████████████▉| 2.4 MB 27.2 MB/s eta 0:00:01\r\u001b[K     |████████████████████████████████| 2.4 MB 27.2 MB/s eta 0:00:01\r\u001b[K     |████████████████████████████████| 2.4 MB 27.2 MB/s \n",
            "\u001b[?25hRequirement already satisfied: scipy in /usr/local/lib/python3.7/dist-packages (from gradio) (1.4.1)\n",
            "Collecting ffmpy\n",
            "  Downloading ffmpy-0.3.0.tar.gz (4.8 kB)\n",
            "Collecting analytics-python\n",
            "  Downloading analytics_python-1.4.0-py2.py3-none-any.whl (15 kB)\n",
            "Collecting flask-cachebuster\n",
            "  Downloading Flask-CacheBuster-1.0.0.tar.gz (3.1 kB)\n",
            "Collecting Flask-Login\n",
            "  Downloading Flask_Login-0.5.0-py2.py3-none-any.whl (16 kB)\n",
            "Collecting markdown2\n",
            "  Downloading markdown2-2.4.0-py2.py3-none-any.whl (34 kB)\n",
            "Collecting paramiko\n",
            "  Downloading paramiko-2.7.2-py2.py3-none-any.whl (206 kB)\n",
            "\u001b[K     |████████████████████████████████| 206 kB 51.5 MB/s \n",
            "\u001b[?25hCollecting pycryptodome\n",
            "  Downloading pycryptodome-3.10.1-cp35-abi3-manylinux2010_x86_64.whl (1.9 MB)\n",
            "\u001b[K     |████████████████████████████████| 1.9 MB 50.7 MB/s \n",
            "\u001b[?25hCollecting Flask-Cors>=3.0.8\n",
            "  Downloading Flask_Cors-3.0.10-py2.py3-none-any.whl (14 kB)\n",
            "Requirement already satisfied: pandas in /usr/local/lib/python3.7/dist-packages (from gradio) (1.1.5)\n",
            "Requirement already satisfied: numpy in /usr/local/lib/python3.7/dist-packages (from gradio) (1.19.5)\n",
            "Requirement already satisfied: requests in /usr/local/lib/python3.7/dist-packages (from gradio) (2.23.0)\n",
            "Requirement already satisfied: matplotlib in /usr/local/lib/python3.7/dist-packages (from gradio) (3.2.2)\n",
            "Requirement already satisfied: pillow in /usr/local/lib/python3.7/dist-packages (from gradio) (7.1.2)\n",
            "Requirement already satisfied: Flask>=1.1.1 in /usr/local/lib/python3.7/dist-packages (from gradio) (1.1.4)\n",
            "Requirement already satisfied: Jinja2<3.0,>=2.10.1 in /usr/local/lib/python3.7/dist-packages (from Flask>=1.1.1->gradio) (2.11.3)\n",
            "Requirement already satisfied: Werkzeug<2.0,>=0.15 in /usr/local/lib/python3.7/dist-packages (from Flask>=1.1.1->gradio) (1.0.1)\n",
            "Requirement already satisfied: click<8.0,>=5.1 in /usr/local/lib/python3.7/dist-packages (from Flask>=1.1.1->gradio) (7.1.2)\n",
            "Requirement already satisfied: itsdangerous<2.0,>=0.24 in /usr/local/lib/python3.7/dist-packages (from Flask>=1.1.1->gradio) (1.1.0)\n",
            "Requirement already satisfied: Six in /usr/local/lib/python3.7/dist-packages (from Flask-Cors>=3.0.8->gradio) (1.15.0)\n",
            "Requirement already satisfied: MarkupSafe>=0.23 in /usr/local/lib/python3.7/dist-packages (from Jinja2<3.0,>=2.10.1->Flask>=1.1.1->gradio) (2.0.1)\n",
            "Collecting backoff==1.10.0\n",
            "  Downloading backoff-1.10.0-py2.py3-none-any.whl (31 kB)\n",
            "Requirement already satisfied: python-dateutil>2.1 in /usr/local/lib/python3.7/dist-packages (from analytics-python->gradio) (2.8.1)\n",
            "Collecting monotonic>=1.5\n",
            "  Downloading monotonic-1.6-py2.py3-none-any.whl (8.2 kB)\n",
            "Requirement already satisfied: certifi>=2017.4.17 in /usr/local/lib/python3.7/dist-packages (from requests->gradio) (2021.5.30)\n",
            "Requirement already satisfied: idna<3,>=2.5 in /usr/local/lib/python3.7/dist-packages (from requests->gradio) (2.10)\n",
            "Requirement already satisfied: urllib3!=1.25.0,!=1.25.1,<1.26,>=1.21.1 in /usr/local/lib/python3.7/dist-packages (from requests->gradio) (1.24.3)\n",
            "Requirement already satisfied: chardet<4,>=3.0.2 in /usr/local/lib/python3.7/dist-packages (from requests->gradio) (3.0.4)\n",
            "Requirement already satisfied: kiwisolver>=1.0.1 in /usr/local/lib/python3.7/dist-packages (from matplotlib->gradio) (1.3.1)\n",
            "Requirement already satisfied: cycler>=0.10 in /usr/local/lib/python3.7/dist-packages (from matplotlib->gradio) (0.10.0)\n",
            "Requirement already satisfied: pyparsing!=2.0.4,!=2.1.2,!=2.1.6,>=2.0.1 in /usr/local/lib/python3.7/dist-packages (from matplotlib->gradio) (2.4.7)\n",
            "Requirement already satisfied: pytz>=2017.2 in /usr/local/lib/python3.7/dist-packages (from pandas->gradio) (2018.9)\n",
            "Collecting pynacl>=1.0.1\n",
            "  Downloading PyNaCl-1.4.0-cp35-abi3-manylinux1_x86_64.whl (961 kB)\n",
            "\u001b[K     |████████████████████████████████| 961 kB 44.0 MB/s \n",
            "\u001b[?25hCollecting bcrypt>=3.1.3\n",
            "  Downloading bcrypt-3.2.0-cp36-abi3-manylinux2010_x86_64.whl (63 kB)\n",
            "\u001b[K     |████████████████████████████████| 63 kB 2.4 MB/s \n",
            "\u001b[?25hCollecting cryptography>=2.5\n",
            "  Downloading cryptography-3.4.7-cp36-abi3-manylinux2014_x86_64.whl (3.2 MB)\n",
            "\u001b[K     |████████████████████████████████| 3.2 MB 49.0 MB/s \n",
            "\u001b[?25hRequirement already satisfied: cffi>=1.1 in /usr/local/lib/python3.7/dist-packages (from bcrypt>=3.1.3->paramiko->gradio) (1.14.6)\n",
            "Requirement already satisfied: pycparser in /usr/local/lib/python3.7/dist-packages (from cffi>=1.1->bcrypt>=3.1.3->paramiko->gradio) (2.20)\n",
            "Building wheels for collected packages: ffmpy, flask-cachebuster\n",
            "  Building wheel for ffmpy (setup.py) ... \u001b[?25l\u001b[?25hdone\n",
            "  Created wheel for ffmpy: filename=ffmpy-0.3.0-py3-none-any.whl size=4709 sha256=50d023a256746b202ba96957bb679a05658baa1f2c79365eaf627e83217b3355\n",
            "  Stored in directory: /root/.cache/pip/wheels/13/e4/6c/e8059816e86796a597c6e6b0d4c880630f51a1fcfa0befd5e6\n",
            "  Building wheel for flask-cachebuster (setup.py) ... \u001b[?25l\u001b[?25hdone\n",
            "  Created wheel for flask-cachebuster: filename=Flask_CacheBuster-1.0.0-py3-none-any.whl size=3372 sha256=d32dc4d2682e83c57e865173b1cb126dd78aaf0bf2b3a4c615811bf36d9e9632\n",
            "  Stored in directory: /root/.cache/pip/wheels/28/c0/c4/44687421dab41455be93112bd1b0dee1f3c5a9aa27bee63708\n",
            "Successfully built ffmpy flask-cachebuster\n",
            "Installing collected packages: pynacl, monotonic, cryptography, bcrypt, backoff, pycryptodome, paramiko, markdown2, Flask-Login, Flask-Cors, flask-cachebuster, ffmpy, analytics-python, gradio\n",
            "Successfully installed Flask-Cors-3.0.10 Flask-Login-0.5.0 analytics-python-1.4.0 backoff-1.10.0 bcrypt-3.2.0 cryptography-3.4.7 ffmpy-0.3.0 flask-cachebuster-1.0.0 gradio-2.2.3 markdown2-2.4.0 monotonic-1.6 paramiko-2.7.2 pycryptodome-3.10.1 pynacl-1.4.0\n"
          ],
          "name": "stdout"
        }
      ]
    },
    {
      "cell_type": "code",
      "metadata": {
        "id": "wjlGkLUBGjik"
      },
      "source": [
        "import gradio as gr"
      ],
      "execution_count": null,
      "outputs": []
    },
    {
      "cell_type": "markdown",
      "metadata": {
        "id": "uTM3fiuMX3RA"
      },
      "source": [
        "注意現在主函數和我們做辨識 Cooper 的例子很像, 只是現在我們只有三個種類。而且是我們的 `model`!"
      ]
    },
    {
      "cell_type": "code",
      "metadata": {
        "id": "LneH4aAKGsef"
      },
      "source": [
        "def classify_image(inp):\n",
        "  inp = inp.reshape((-1, 256, 256, 3))\n",
        "  inp = preprocess_input(inp)\n",
        "  prediction = model.predict(inp).flatten()\n",
        "  return {labels[i]: float(prediction[i]) for i in range(3)}\n",
        "\n",
        "image = gr.inputs.Image(shape=(256, 256), label=\"八哥照片\")\n",
        "label = gr.outputs.Label(num_top_classes=3, label=\"AI辨識結果\")"
      ],
      "execution_count": null,
      "outputs": []
    },
    {
      "cell_type": "code",
      "metadata": {
        "colab": {
          "base_uri": "https://localhost:8080/",
          "height": 640
        },
        "id": "M3eOTQqcHE6h",
        "outputId": "9ead4659-5759-4443-fe26-22bf704ca2b4"
      },
      "source": [
        "gr.Interface(fn=classify_image, inputs=image, outputs=label,\n",
        "             title=\"AI 八哥辨識機\",\n",
        "             description=\"我能辨識台灣常見的三種八哥: (土)八哥、家八哥、白尾八哥。快找張八哥照片來考我吧!\",\n",
        "             capture_session=True).launch()"
      ],
      "execution_count": null,
      "outputs": [
        {
          "output_type": "stream",
          "text": [
            "Colab notebook detected. To show errors in colab notebook, set `debug=True` in `launch()`\n",
            "This share link will expire in 24 hours. If you need a permanent link, visit: https://gradio.app/introducing-hosted (NEW!)\n",
            "Running on External URL: https://57897.gradio.app\n",
            "Interface loading below...\n"
          ],
          "name": "stdout"
        },
        {
          "output_type": "display_data",
          "data": {
            "text/html": [
              "\n",
              "        <iframe\n",
              "            width=\"900\"\n",
              "            height=\"500\"\n",
              "            src=\"https://57897.gradio.app\"\n",
              "            frameborder=\"0\"\n",
              "            allowfullscreen\n",
              "        ></iframe>\n",
              "        "
            ],
            "text/plain": [
              "<IPython.lib.display.IFrame at 0x7f756037b790>"
            ]
          },
          "metadata": {
            "tags": []
          }
        },
        {
          "output_type": "execute_result",
          "data": {
            "text/plain": [
              "(<Flask 'gradio.networking'>,\n",
              " 'http://127.0.0.1:7860/',\n",
              " 'https://57897.gradio.app')"
            ]
          },
          "metadata": {
            "tags": []
          },
          "execution_count": 32
        }
      ]
    }
  ]
}